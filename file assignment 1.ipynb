{
 "cells": [
  {
   "cell_type": "markdown",
   "metadata": {},
   "source": [
    "Q1. What is an exceptional in python ? write the diffrent between exception and syntax error ? \n"
   ]
  },
  {
   "cell_type": "markdown",
   "metadata": {},
   "source": [
    "ANSWER =  Exception in Python:\n",
    "\n",
    "An exception is an object that represents an error or an exceptional condition in a Python program.\n",
    "Exceptions are raised when something goes wrong during program execution, such as dividing by zero, attempting to access a file that doesn't exist, or trying to use a variable that hasn't been defined.\n",
    "Python has a variety of built-in exceptions, and you can also create your own custom exceptions when needed.\n",
    "\n",
    "diffrents are \n",
    "\n",
    "\n",
    "Exceptions:\n",
    "\n",
    "Exceptions happen when your program is running.\n",
    "They are like problems or surprises that pop up while your program is doing its job.\n",
    "For example, when your program tries to divide a number by zero or when it can't find a file you told it to open.\n",
    "Exceptions are like a safety net to handle these surprises and prevent your program from crashing.\n",
    "Syntax Errors:\n",
    "\n",
    "Syntax errors happen before your program even starts running; they're like mistakes in the way you wrote your instructions.\n",
    "They are caused by not following the rules of the Python language.\n",
    "For example, if you forget to put a colon at the end of a line or if you use a word that Python doesn't understand.\n",
    "Syntax errors are like typos in a recipe; you need to fix them before you can cook the dish.\n",
    "\n"
   ]
  },
  {
   "cell_type": "markdown",
   "metadata": {},
   "source": [
    "Q2  what happen when an exception is not handled ? explain with an example "
   ]
  },
  {
   "cell_type": "markdown",
   "metadata": {},
   "source": [
    "ANSWER =  When an exception is not handled in a Python program:\n",
    "\n",
    "The program abruptly stops running.\n",
    "Any code after the point where the exception occurred is not executed.\n",
    "An error message is typically displayed, describing the problem that caused the exception.\n",
    "Handling exceptions with try and except blocks can prevent the program from crashing and allow you to respond to errors gracefully."
   ]
  },
  {
   "cell_type": "code",
   "execution_count": 1,
   "metadata": {},
   "outputs": [
    {
     "ename": "ZeroDivisionError",
     "evalue": "division by zero",
     "output_type": "error",
     "traceback": [
      "\u001b[0;31m---------------------------------------------------------------------------\u001b[0m",
      "\u001b[0;31mZeroDivisionError\u001b[0m                         Traceback (most recent call last)",
      "\u001b[1;32m/home/saif/Documents/python assignment pw/file handeling and memory management/file assignment 1.ipynb Cell 5\u001b[0m line \u001b[0;36m3\n\u001b[1;32m      <a href='vscode-notebook-cell:/home/saif/Documents/python%20assignment%20pw/file%20handeling%20and%20memory%20management/file%20assignment%201.ipynb#W6sZmlsZQ%3D%3D?line=0'>1</a>\u001b[0m numerator \u001b[39m=\u001b[39m \u001b[39m10\u001b[39m\n\u001b[1;32m      <a href='vscode-notebook-cell:/home/saif/Documents/python%20assignment%20pw/file%20handeling%20and%20memory%20management/file%20assignment%201.ipynb#W6sZmlsZQ%3D%3D?line=1'>2</a>\u001b[0m denominator \u001b[39m=\u001b[39m \u001b[39m0\u001b[39m\n\u001b[0;32m----> <a href='vscode-notebook-cell:/home/saif/Documents/python%20assignment%20pw/file%20handeling%20and%20memory%20management/file%20assignment%201.ipynb#W6sZmlsZQ%3D%3D?line=2'>3</a>\u001b[0m result \u001b[39m=\u001b[39m numerator \u001b[39m/\u001b[39;49m denominator  \u001b[39m# This line will cause a program crash\u001b[39;00m\n\u001b[1;32m      <a href='vscode-notebook-cell:/home/saif/Documents/python%20assignment%20pw/file%20handeling%20and%20memory%20management/file%20assignment%201.ipynb#W6sZmlsZQ%3D%3D?line=3'>4</a>\u001b[0m \u001b[39mprint\u001b[39m(\u001b[39m\"\u001b[39m\u001b[39mResult:\u001b[39m\u001b[39m\"\u001b[39m, result)  \u001b[39m# This line won't be executed\u001b[39;00m\n",
      "\u001b[0;31mZeroDivisionError\u001b[0m: division by zero"
     ]
    }
   ],
   "source": [
    "numerator = 10\n",
    "denominator = 0\n",
    "result = numerator / denominator  # This line will cause a program crash\n",
    "print(\"Result:\", result)  # This line won't be executed\n"
   ]
  },
  {
   "cell_type": "markdown",
   "metadata": {},
   "source": [
    "In this example, if you run this code, it will crash with a \"ZeroDivisionError,\" and you won't see the \"Result\" message printed"
   ]
  },
  {
   "cell_type": "code",
   "execution_count": 2,
   "metadata": {},
   "outputs": [
    {
     "name": "stdout",
     "output_type": "stream",
     "text": [
      "Error: You can't divide by zero!\n"
     ]
    }
   ],
   "source": [
    "numerator = 10\n",
    "denominator = 0\n",
    "try:\n",
    "    result = numerator / denominator\n",
    "except ZeroDivisionError:\n",
    "    print(\"Error: You can't divide by zero!\")\n",
    "else:\n",
    "    print(\"Result:\", result)\n"
   ]
  },
  {
   "cell_type": "markdown",
   "metadata": {},
   "source": [
    "In this modified code, when you run it, it doesn't crash. Instead, it prints the error message \"Error: You can't divide by zero!\" and continues running. This is because we used a try and except block to handle the exception gracefully.\n",
    "\n"
   ]
  },
  {
   "cell_type": "markdown",
   "metadata": {},
   "source": [
    "Q3   which python statement are use to catch and handle exception ? explain with example . "
   ]
  },
  {
   "cell_type": "markdown",
   "metadata": {},
   "source": [
    "ANSWER =  In Python, you use the try and except statements to catch and handle exceptions. Here's an explanation with an example:\n",
    "\n",
    "try: The try statement is used to enclose the code that might raise an exception. It allows you to \"try\" a block of code for potential exceptions.\n",
    "\n",
    "except: The except statement is used to specify how to handle exceptions if they occur within the try block. You can catch specific types of exceptions by specifying the exception type in the except block, or you can use a generic except block to catch any exception.\n",
    "\n",
    "Here's an example:\n",
    "\n"
   ]
  },
  {
   "cell_type": "code",
   "execution_count": 3,
   "metadata": {},
   "outputs": [
    {
     "name": "stdout",
     "output_type": "stream",
     "text": [
      "Error: You can't divide by zero!\n"
     ]
    }
   ],
   "source": [
    "try:\n",
    "    numerator = 10\n",
    "    denominator = 0\n",
    "    result = numerator / denominator  # This line may cause a division by zero exception\n",
    "except ZeroDivisionError:\n",
    "    print(\"Error: You can't divide by zero!\")\n",
    "except Exception as e:\n",
    "    print(f\"An error occurred: {e}\")\n",
    "else:\n",
    "    print(\"Result:\", result)\n"
   ]
  },
  {
   "cell_type": "markdown",
   "metadata": {},
   "source": [
    "In this example:\n",
    "\n",
    "The try block contains the code that attempts to divide numerator by denominator, which may result in a \"ZeroDivisionError\" due to division by zero.\n",
    "The first except block catches the specific \"ZeroDivisionError\" and prints an error message.\n",
    "The second except block with Exception as e is a more general catch-all block that can catch any other exceptions and display a generic error message. It is a good practice to include such a block for unexpected exceptions.\n",
    "The else block is executed only if no exceptions occur in the try block. It prints the result.\n",
    "Using try and except statements allows you to handle exceptions gracefully, providing error messages and preventing your program from crashing when unexpected issues arise during its execution."
   ]
  },
  {
   "cell_type": "markdown",
   "metadata": {},
   "source": [
    "Q4 Explain with example \n",
    "\n",
    "a.  try and else\n",
    "b.  finally\n",
    "c.  raise"
   ]
  },
  {
   "cell_type": "markdown",
   "metadata": {},
   "source": [
    "a. try and else:\n",
    "\n",
    "The try block is used to enclose code that might raise an exception, and the else block is executed when no exception occurs in the try block.\n",
    "\n",
    "Example:\n",
    "\n"
   ]
  },
  {
   "cell_type": "code",
   "execution_count": 4,
   "metadata": {},
   "outputs": [
    {
     "name": "stdout",
     "output_type": "stream",
     "text": [
      "Result: 5.0\n"
     ]
    }
   ],
   "source": [
    "try:\n",
    "    result = 10 / 2\n",
    "except ZeroDivisionError:\n",
    "    print(\"Error: You can't divide by zero!\")\n",
    "else:\n",
    "    print(\"Result:\", result)\n"
   ]
  },
  {
   "cell_type": "markdown",
   "metadata": {},
   "source": [
    "b. finally:\n",
    "\n",
    "The finally block is used to specify code that always gets executed, whether an exception occurred or not. It is often used for cleanup operations.\n",
    "\n",
    "Example:\n"
   ]
  },
  {
   "cell_type": "code",
   "execution_count": null,
   "metadata": {},
   "outputs": [],
   "source": [
    "try:\n",
    "    file = open(\"example.txt\", \"r\")\n",
    "    data = file.read()\n",
    "except FileNotFoundError:\n",
    "    print(\"File not found!\")\n",
    "else:\n",
    "    print(\"File contents:\", data)\n",
    "finally:\n",
    "    file.close()  # This will always be executed to close the file, even if an exception occurred\n"
   ]
  },
  {
   "cell_type": "markdown",
   "metadata": {},
   "source": [
    "raise in Python:\n",
    "\n",
    "The raise statement is used to deliberately raise an exception in your code. You can use it to create custom exceptions or to re-raise exceptions with additional information.\n",
    "\n",
    "Example (Creating a custom exception):\n",
    "\n",
    "python\n"
   ]
  },
  {
   "cell_type": "code",
   "execution_count": 6,
   "metadata": {},
   "outputs": [
    {
     "name": "stdout",
     "output_type": "stream",
     "text": [
      "Custom Exception: This is a custom exception.\n"
     ]
    }
   ],
   "source": [
    "class MyCustomError(Exception):\n",
    "    pass\n",
    "\n",
    "def custom_function():\n",
    "    try:\n",
    "        # Some code here\n",
    "        raise MyCustomError(\"This is a custom exception.\")\n",
    "    except MyCustomError as e:\n",
    "        print(\"Custom Exception:\", e)\n",
    "\n",
    "custom_function()\n"
   ]
  },
  {
   "cell_type": "markdown",
   "metadata": {},
   "source": [
    "Q5  What is custom exception in python ? why do we need custom exception ? explain with an example . "
   ]
  },
  {
   "cell_type": "markdown",
   "metadata": {},
   "source": [
    "Custom Exception in Python:\n",
    "\n",
    "A custom exception is like creating your own type of error.\n",
    "You make it when you want to handle specific problems in your code.\n",
    "It helps to give clear, custom error messages.\n",
    "Why We Need Custom Exceptions:\n",
    "\n",
    "Specific Errors: To handle unique errors or situations.\n",
    "Clear Messages: To provide detailed, easy-to-understand error messages.\n",
    "Better Organization: To categorize and manage different types of errors in your code."
   ]
  },
  {
   "cell_type": "code",
   "execution_count": 7,
   "metadata": {},
   "outputs": [
    {
     "name": "stdout",
     "output_type": "stream",
     "text": [
      "Error: Out of stock: Widget. Current stock: 10. Order quantity: 15.\n"
     ]
    }
   ],
   "source": [
    "class OutOfStockError(Exception):\n",
    "    def __init__(self, item_name, current_stock, order_quantity):\n",
    "        self.item_name = item_name\n",
    "        self.current_stock = current_stock\n",
    "        self.order_quantity = order_quantity\n",
    "        super().__init__(f\"Out of stock: {item_name}. Current stock: {current_stock}. Order quantity: {order_quantity}.\")\n",
    "\n",
    "def process_order(item_name, current_stock, order_quantity):\n",
    "    if order_quantity > current_stock:\n",
    "        raise OutOfStockError(item_name, current_stock, order_quantity)\n",
    "    else:\n",
    "        print(f\"Order for {order_quantity} {item_name} processed successfully.\")\n",
    "\n",
    "try:\n",
    "    process_order(\"Widget\", 10, 15)\n",
    "except OutOfStockError as e:\n",
    "    print(f\"Error: {e}\")\n"
   ]
  },
  {
   "cell_type": "markdown",
   "metadata": {},
   "source": [
    "Q6 Create a custom exception class . use this class to handle an exception . "
   ]
  },
  {
   "cell_type": "code",
   "execution_count": 8,
   "metadata": {},
   "outputs": [
    {
     "name": "stdout",
     "output_type": "stream",
     "text": [
      "Custom Exception: Value 42 is too high. Limit is 30.\n"
     ]
    }
   ],
   "source": [
    "# Custom Exception Class\n",
    "class ValueTooHighError(Exception):\n",
    "    def __init__(self, value, limit):\n",
    "        self.value = value\n",
    "        self.limit = limit\n",
    "        super().__init__(f\"Value {value} is too high. Limit is {limit}.\")\n",
    "\n",
    "# Function that raises the custom exception\n",
    "def check_value(value, limit):\n",
    "    if value > limit:\n",
    "        raise ValueTooHighError(value, limit)\n",
    "    else:\n",
    "        print(f\"Value {value} is within the limit.\")\n",
    "\n",
    "try:\n",
    "    # Test the function with a value that exceeds the limit\n",
    "    check_value(42, 30)\n",
    "except ValueTooHighError as e:\n",
    "    print(f\"Custom Exception: {e}\")\n"
   ]
  }
 ],
 "metadata": {
  "kernelspec": {
   "display_name": "Python 3",
   "language": "python",
   "name": "python3"
  },
  "language_info": {
   "codemirror_mode": {
    "name": "ipython",
    "version": 3
   },
   "file_extension": ".py",
   "mimetype": "text/x-python",
   "name": "python",
   "nbconvert_exporter": "python",
   "pygments_lexer": "ipython3",
   "version": "3.8.10"
  }
 },
 "nbformat": 4,
 "nbformat_minor": 2
}
